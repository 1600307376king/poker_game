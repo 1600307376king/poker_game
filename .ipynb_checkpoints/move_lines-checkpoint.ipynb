import matplotlib as mpl
import matplotlib.pyplot as plt
import numpy as np

mpl.use("TkAgg")


def show_normalize(x, y):
    plt.plot(x, y)
    plt.show()


if __name__ == '__main__':
    x_arr = np.arange(-100, 100, 1).astype(np.float32)
    y_arr = np.random.normal(loc=1, scale=2, size=(200,))
    show_normalize(x_arr, y_arr)
